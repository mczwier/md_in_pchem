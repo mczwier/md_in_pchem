{
 "cells": [
  {
   "cell_type": "markdown",
   "metadata": {},
   "source": [
    "# Setup "
   ]
  },
  {
   "cell_type": "code",
   "execution_count": 1,
   "metadata": {
    "collapsed": false
   },
   "outputs": [
    {
     "name": "stdout",
     "output_type": "stream",
     "text": [
      "Populating the interactive namespace from numpy and matplotlib\n"
     ]
    }
   ],
   "source": [
    "%pylab inline"
   ]
  },
  {
   "cell_type": "code",
   "execution_count": 2,
   "metadata": {
    "collapsed": true
   },
   "outputs": [],
   "source": [
    "from matplotlib import rc\n",
    "rc('font',**{'family':'serif','serif':['TeX Gyre Termes'],'size':10.0})\n",
    "rc('axes',**{'labelsize':'large'})\n",
    "rc('text', usetex=False)\n",
    "rc('figure', figsize=(4,3))\n",
    "rc('mathtext', fontset='stix')\n",
    "rc('pdf',**{'fonttype': 42})"
   ]
  },
  {
   "cell_type": "code",
   "execution_count": 3,
   "metadata": {
    "collapsed": true
   },
   "outputs": [],
   "source": [
    "from cycler import cycler\n",
    "linestyle_cycler = cycler('linestyle', ['-', '--', ':', '-.'])"
   ]
  },
  {
   "cell_type": "code",
   "execution_count": 4,
   "metadata": {
    "collapsed": true
   },
   "outputs": [],
   "source": [
    "from scipy import constants, optimize, interpolate, stats"
   ]
  },
  {
   "cell_type": "code",
   "execution_count": 5,
   "metadata": {
    "collapsed": false
   },
   "outputs": [],
   "source": [
    "def read_xvg(filename):\n",
    "    '''A little auxiliary function to read a GROMACS-produced XVG\n",
    "    file, automatially skipping over the default xmgr formatting.'''\n",
    "    \n",
    "    skiplines = 0\n",
    "    with open(filename, 'rt') as xvgfile:\n",
    "        for line in xvgfile:\n",
    "            if line[0] in ('#','@'):\n",
    "                skiplines += 1\n",
    "                continue\n",
    "            else:\n",
    "                break\n",
    "            \n",
    "    return np.loadtxt(filename, skiprows=skiplines)"
   ]
  },
  {
   "cell_type": "markdown",
   "metadata": {},
   "source": [
    "# Energy analysis "
   ]
  },
  {
   "cell_type": "markdown",
   "metadata": {},
   "source": [
    "We see to answer whether each simulation is consistent with $\\left<E_K\\right> = (3/2)RT$ (where $E_K$ is kinetic energy) and how consistent each simulation is with respect to the ideal gas law $P\\left<V\\right>=nR\\left<T\\right>$. The volume is determined from the size of the periodic box containing the simulation, and GROMACS reports average kinetic energy, pressure, and temperature. This information is reported in the simulation output files (`*.log`), but here we do the average ourselves."
   ]
  },
  {
   "cell_type": "code",
   "execution_count": 6,
   "metadata": {
    "collapsed": false
   },
   "outputs": [
    {
     "name": "stdout",
     "output_type": "stream",
     "text": [
      "System volume is 4.431409095683481e-22 L\n",
      "Number of moles = 1.6605390404271642e-22\n",
      "\n",
      "Type    Ideal T (K)  <T> (K)  Rel. Err. in KE  Rel. Err in PV vs nRT\n",
      "ideal           100   97.868   2.84544522e-07         3.67975291e-07\n",
      "ideal           200  192.966   2.69049780e-07         1.90408991e-07\n",
      "ideal           300  295.378   2.35263416e-07         2.64528930e-07\n",
      "real            100   98.823   2.82159795e-07        -6.41930145e-02\n",
      "real            200  195.240   2.82124694e-07        -1.94872316e-02\n",
      "real            300  294.333   2.82090661e-07        -5.97672517e-03\n"
     ]
    }
   ],
   "source": [
    "# expected order:\n",
    "# time, LJ, potential, kinetic, total E, temperature, pressure\n",
    "# energies are kJ/(mol of simulations)\n",
    "# temperature is Kelvin\n",
    "# pressure is bar\n",
    "\n",
    "# The last line of a gro file contains the box vectors, in nm\n",
    "# Brute-force read the last line, convert to float, and get the volume in L\n",
    "DM_PER_NM = 1e-8\n",
    "box_vectors = np.fromiter([float(v) for v in open('ideal_100.gro','rt')\n",
    "                           .readlines()[-1].strip().split()], dtype=np.float32)\n",
    "volume = (box_vectors*DM_PER_NM).prod()\n",
    "\n",
    "R_kJ = constants.R / 1000.0  #kJ/mol.K\n",
    "R_barL = R_kJ * 10 # bar.L/mol.K\n",
    "\n",
    "n = 100 / constants.Avogadro\n",
    "\n",
    "\n",
    "print('System volume is {} L'.format(volume))\n",
    "print('Number of moles = {}'.format(n))\n",
    "print()\n",
    "\n",
    "print('{:6s}  {:11s}  {:7s}  {:15s}  {:21s}'\n",
    "      .format('Type', 'Ideal T (K)', '<T> (K)', \n",
    "              'Rel. Err. in KE', 'Rel. Err in PV vs nRT'))\n",
    "averages = {}\n",
    "for interaction_type in ('ideal', 'real'):\n",
    "    averages[interaction_type] = {}\n",
    "    for temperature in (100, 200, 300):\n",
    "\n",
    "        energy_filename = 'energy_{}_{}.xvg'.format(temperature,interaction_type)\n",
    "        energy_data = read_xvg(energy_filename)\n",
    "        \n",
    "        avg_kinetic = energy_data[:,3].mean() / 100 # per atom\n",
    "        avg_pressure = energy_data[:,6].mean()\n",
    "        avg_temp = energy_data[:,5].mean()\n",
    "        \n",
    "        averages[interaction_type][temperature] = {'kinetic': avg_kinetic,\n",
    "                                                   'pressure': avg_pressure,\n",
    "                                                   'temperature': avg_temp}\n",
    "        \n",
    "        # KE = (3/2)RT\n",
    "        pred_avg_kinetic = 1.5*R_kJ*avg_temp\n",
    "        \n",
    "        avg_kin_error = (avg_kinetic - pred_avg_kinetic)/pred_avg_kinetic\n",
    "        \n",
    "        # PV = nRT\n",
    "        PV = avg_pressure * volume\n",
    "        nRT = n*R_barL*avg_temp\n",
    "        \n",
    "        ideality_error = (PV-nRT)/nRT\n",
    "        \n",
    "        print('{:6s}  {:11d}  {:7.3f}  {:15.8e}  {:21.8e}'\n",
    "              .format(interaction_type, temperature, avg_temp,\n",
    "                      avg_kin_error, ideality_error))\n",
    "        "
   ]
  },
  {
   "cell_type": "markdown",
   "metadata": {},
   "source": [
    "All simulations are consistent with $\\left<E_K\\right> = (3/2)RT$, with an error of roughly $10^{-5}\\%$ (which is on the order of the storage accuracy of the single-precision floating-point format GROMACS uses to store energies). The ideal gas simulations are, as expected, consistent with the ideal gas law, again with an error of roughly $10^{-5}\\%$. The real gas simulations show negative deviations from the ideal gas law of around 7% for 100 K, 2% at 200 K, and 0.5% at 300 K. As expected, at low density, attractive forces dominate, and these attractive forces become progressively less important as temperature increases."
   ]
  },
  {
   "cell_type": "markdown",
   "metadata": {},
   "source": [
    "# RDF Analysis"
   ]
  },
  {
   "cell_type": "code",
   "execution_count": 7,
   "metadata": {
    "collapsed": false
   },
   "outputs": [],
   "source": [
    "rdf_data = {}\n",
    "for interaction_type in ('ideal', 'real'):\n",
    "    rdf_data[interaction_type] = {}\n",
    "    for temperature in (100, 200, 300):\n",
    "        rdf_filename = 'rdf_{}_{}.xvg'.format(temperature,interaction_type)\n",
    "        rdf_data[interaction_type][temperature] = read_xvg(rdf_filename)"
   ]
  },
  {
   "cell_type": "code",
   "execution_count": 8,
   "metadata": {
    "collapsed": false
   },
   "outputs": [
    {
     "data": {
      "image/png": "[encoded data removed]",
      "text/plain": [
       "<matplotlib.figure.Figure at 0x7f7229769c18>"
      ]
     },
     "metadata": {},
     "output_type": "display_data"
    }
   ],
   "source": [
    "for temperature in (100, 200, 300):\n",
    "    this_rdf_data = rdf_data['ideal'][temperature]\n",
    "    plot(this_rdf_data[:,0], this_rdf_data[:,1], label='{} K'.format(temperature))\n",
    "    xlabel('Separation $r$ (nm)')\n",
    "    ylabel('$g(r)$ (Unitless)')\n",
    "    \n",
    "xlim(0,3.5)\n",
    "legend(loc='best')\n",
    "tight_layout()\n",
    "savefig('rdfs_ideal.pdf')"
   ]
  },
  {
   "cell_type": "markdown",
   "metadata": {},
   "source": [
    "As separation decreases, noise increases, but otherwise $g(r) = 1$ for an ideal gas at all temperatures, as we expect from the definition of $g(r)$."
   ]
  },
  {
   "cell_type": "code",
   "execution_count": 9,
   "metadata": {
    "collapsed": false
   },
   "outputs": [
    {
     "data": {
      "image/png": "[encoded data removed]",
      "text/plain": [
       "<matplotlib.figure.Figure at 0x7f72298ccd30>"
      ]
     },
     "metadata": {},
     "output_type": "display_data"
    }
   ],
   "source": [
    "for temperature in (100, 200, 300):\n",
    "    this_rdf_data = rdf_data['real'][temperature]\n",
    "    plot(this_rdf_data[:,0], this_rdf_data[:,1], label='{} K'.format(temperature))\n",
    "    xlabel('Separation $r$ (nm)')\n",
    "    ylabel('$g(r)$ (Unitless)')\n",
    "    \n",
    "xlim(0,3.5)\n",
    "legend(loc='best')\n",
    "tight_layout()\n",
    "savefig('rdfs_real_fullrange.pdf')"
   ]
  },
  {
   "cell_type": "code",
   "execution_count": 10,
   "metadata": {
    "collapsed": false
   },
   "outputs": [
    {
     "data": {
      "image/png": "[encoded data removed]",
      "text/plain": [
       "<matplotlib.figure.Figure at 0x7f722994e278>"
      ]
     },
     "metadata": {},
     "output_type": "display_data"
    }
   ],
   "source": [
    "gca().set_prop_cycle(linestyle_cycler)\n",
    "for temperature in (300, 200, 100):\n",
    "    this_rdf_data = rdf_data['real'][temperature]\n",
    "    plot(this_rdf_data[:,0], this_rdf_data[:,1], label='{} K'.format(temperature), color='black')\n",
    "    xlabel('Separation $r$ (nm)')\n",
    "    ylabel('$g(r)$ (Unitless)')\n",
    "    \n",
    "xlim(0,1.5)\n",
    "legend(loc='best')\n",
    "tight_layout()\n",
    "savefig('rdfs_real.pdf')"
   ]
  },
  {
   "cell_type": "markdown",
   "metadata": {},
   "source": [
    "As we expect, distant particles do not interact with each other, there is a single small separation favored over all others (the dimer internuclear separation), and the probability of dimerization decreases with increasing temperature."
   ]
  },
  {
   "cell_type": "markdown",
   "metadata": {},
   "source": [
    "# Pair potential analysis"
   ]
  },
  {
   "cell_type": "code",
   "execution_count": 11,
   "metadata": {
    "collapsed": false
   },
   "outputs": [
    {
     "name": "stderr",
     "output_type": "stream",
     "text": [
      "/opt/apps/anaconda/python3/lib/python3.5/site-packages/ipykernel/__main__.py:5: RuntimeWarning: divide by zero encountered in log\n"
     ]
    },
    {
     "data": {
      "image/png": "[encoded data removed]",
      "text/plain": [
       "<matplotlib.figure.Figure at 0x7f7229849e48>"
      ]
     },
     "metadata": {},
     "output_type": "display_data"
    }
   ],
   "source": [
    "gca().yaxis.set_major_formatter(mpl.ticker.ScalarFormatter(useMathText=True, useOffset=False))\n",
    "for temperature in (100, 200, 300):\n",
    "    this_rdf_data = rdf_data['real'][temperature]\n",
    "    true_avg_temp = averages['real'][temperature]['temperature']\n",
    "    V = -constants.Boltzmann * true_avg_temp * np.log(this_rdf_data[:,1])\n",
    "    plot(this_rdf_data[:,0], V, label='{} K'.format(temperature))\n",
    "    xlabel('Separation $r$ (nm)')\n",
    "    ylabel('$V(r)$ (J)')\n",
    "    \n",
    "xlim(0,3.5)\n",
    "legend(loc='best')\n",
    "tight_layout()"
   ]
  },
  {
   "cell_type": "code",
   "execution_count": 12,
   "metadata": {
    "collapsed": false
   },
   "outputs": [
    {
     "name": "stderr",
     "output_type": "stream",
     "text": [
      "/opt/apps/anaconda/python3/lib/python3.5/site-packages/ipykernel/__main__.py:5: RuntimeWarning: divide by zero encountered in log\n"
     ]
    },
    {
     "data": {
      "image/png": "[encoded data removed]",
      "text/plain": [
       "<matplotlib.figure.Figure at 0x7f72294a30b8>"
      ]
     },
     "metadata": {},
     "output_type": "display_data"
    }
   ],
   "source": [
    "gca().yaxis.set_major_formatter(mpl.ticker.ScalarFormatter(useMathText=True, useOffset=False))\n",
    "for temperature in (100, 200, 300):\n",
    "    this_rdf_data = rdf_data['real'][temperature]\n",
    "    true_avg_temp = averages['real'][temperature]['temperature']\n",
    "    V = -constants.Boltzmann * true_avg_temp * np.log(this_rdf_data[:,1])\n",
    "    plot(this_rdf_data[:,0], V, label='{} K'.format(temperature))\n",
    "    xlabel('Separation $r$ (nm)')\n",
    "    ylabel('$V(r)$ (J)')\n",
    "    \n",
    "xlim(0,3.5)\n",
    "ylim(-0.2e-20,0.2e-20)\n",
    "legend(loc='best')\n",
    "tight_layout()"
   ]
  },
  {
   "cell_type": "markdown",
   "metadata": {},
   "source": [
    "As expected, the pair potentials are equal at all temperatures, though it appears noise increases as temperature increases. The 100 K pair potential will be used in the following."
   ]
  },
  {
   "cell_type": "code",
   "execution_count": 13,
   "metadata": {
    "collapsed": false
   },
   "outputs": [
    {
     "name": "stderr",
     "output_type": "stream",
     "text": [
      "/opt/apps/anaconda/python3/lib/python3.5/site-packages/ipykernel/__main__.py:5: RuntimeWarning: divide by zero encountered in log\n"
     ]
    },
    {
     "data": {
      "image/png": "[encoded data removed]",
      "text/plain": [
       "<matplotlib.figure.Figure at 0x7f7228c36860>"
      ]
     },
     "metadata": {},
     "output_type": "display_data"
    }
   ],
   "source": [
    "gca().yaxis.set_major_formatter(mpl.ticker.ScalarFormatter(useMathText=True, useOffset=False))\n",
    "temperature = 100\n",
    "this_rdf_data = rdf_data['real'][temperature]\n",
    "true_avg_temp = averages['real'][temperature]['temperature']\n",
    "V = -constants.Boltzmann * true_avg_temp * np.log(this_rdf_data[:,1])\n",
    "plot(this_rdf_data[:,0], V, label='{} K'.format(temperature),color='black')\n",
    "xlabel('Separation $r$ (nm)')\n",
    "ylabel('$V(r)$ (J)')\n",
    "    \n",
    "xlim(0,3.5)\n",
    "ylim(-0.2e-20,0.2e-20)\n",
    "tight_layout()"
   ]
  },
  {
   "cell_type": "markdown",
   "metadata": {},
   "source": [
    "##  Linearized fit"
   ]
  },
  {
   "cell_type": "code",
   "execution_count": 14,
   "metadata": {
    "collapsed": false
   },
   "outputs": [
    {
     "name": "stderr",
     "output_type": "stream",
     "text": [
      "/opt/apps/anaconda/python3/lib/python3.5/site-packages/ipykernel/__main__.py:3: RuntimeWarning: divide by zero encountered in power\n",
      "  app.launch_new_instance()\n"
     ]
    }
   ],
   "source": [
    "# this_rdf_data, temperature, true_avg_temp, V all set above\n",
    "r = this_rdf_data[:,0]\n",
    "x = r**(-6.0)"
   ]
  },
  {
   "cell_type": "markdown",
   "metadata": {},
   "source": [
    "We need the long-distance (small $1/r^6$) tail of the $V(r)$ curve. Let's plot $V(r) vs 1/r^6$ and see where it is approximately linear."
   ]
  },
  {
   "cell_type": "code",
   "execution_count": 15,
   "metadata": {
    "collapsed": false
   },
   "outputs": [
    {
     "data": {
      "image/png": "[encoded data removed]",
      "text/plain": [
       "<matplotlib.figure.Figure at 0x7f7228c36f98>"
      ]
     },
     "metadata": {},
     "output_type": "display_data"
    }
   ],
   "source": [
    "gca().yaxis.set_major_formatter(mpl.ticker.ScalarFormatter(useMathText=True, useOffset=False))\n",
    "plot(x, V, color='black')\n",
    "xlabel('$1/r^6$ (nm$^{-6}$)')\n",
    "ylabel('$V(r)$ (J)')\n",
    "tight_layout()"
   ]
  },
  {
   "cell_type": "code",
   "execution_count": 16,
   "metadata": {
    "collapsed": false
   },
   "outputs": [
    {
     "data": {
      "image/png": "[encoded data removed]",
      "text/plain": [
       "<matplotlib.figure.Figure at 0x7f722942fe10>"
      ]
     },
     "metadata": {},
     "output_type": "display_data"
    }
   ],
   "source": [
    "gca().yaxis.set_major_formatter(mpl.ticker.ScalarFormatter(useMathText=True, useOffset=False))\n",
    "plot(x, V, color='black')\n",
    "xlabel('$1/r^6$ (nm$^{-6}$)')\n",
    "ylabel('$V(r)$ (J)')\n",
    "xlim(0,200)\n",
    "ylim(-2e-21,0)\n",
    "tight_layout()"
   ]
  },
  {
   "cell_type": "markdown",
   "metadata": {},
   "source": [
    "To the left of $1/r^6 \\approx 100$ looks promising."
   ]
  },
  {
   "cell_type": "code",
   "execution_count": 17,
   "metadata": {
    "collapsed": false
   },
   "outputs": [
    {
     "data": {
      "image/png": "[encoded data removed]",
      "text/plain": [
       "<matplotlib.figure.Figure at 0x7f72298adef0>"
      ]
     },
     "metadata": {},
     "output_type": "display_data"
    }
   ],
   "source": [
    "gca().yaxis.set_major_formatter(mpl.ticker.ScalarFormatter(useMathText=True, useOffset=False))\n",
    "plot(x, V, color='black')\n",
    "xlabel('$1/r^6$ (nm$^{-6}$)')\n",
    "ylabel('$V(r)$ (J)')\n",
    "xlim(0,100)\n",
    "ylim(-1e-21,0)\n",
    "tight_layout()"
   ]
  },
  {
   "cell_type": "code",
   "execution_count": 18,
   "metadata": {
    "collapsed": false
   },
   "outputs": [
    {
     "data": {
      "text/plain": [
       "LinregressResult(slope=-9.780988485935501e-24, intercept=1.6820123472622062e-23, rvalue=-0.98277754630979819, pvalue=0.0, stderr=4.5637202888787002e-26)"
      ]
     },
     "execution_count": 18,
     "metadata": {},
     "output_type": "execute_result"
    }
   ],
   "source": [
    "stats.linregress(x[x<50],V[x<50])"
   ]
  },
  {
   "cell_type": "markdown",
   "metadata": {},
   "source": [
    "## Direct fit "
   ]
  },
  {
   "cell_type": "code",
   "execution_count": 19,
   "metadata": {
    "collapsed": true
   },
   "outputs": [],
   "source": [
    "Vfit = (lambda r, C: -C/r**6)"
   ]
  },
  {
   "cell_type": "code",
   "execution_count": 32,
   "metadata": {
    "collapsed": false
   },
   "outputs": [
    {
     "name": "stdout",
     "output_type": "stream",
     "text": [
      "C = 8.992923450595522e-24 ± 6.445551675425954e-26\n"
     ]
    }
   ],
   "source": [
    "cutoff = 0.5 # twice the r value of the minimum\n",
    "mask = r > cutoff\n",
    "p, covar = optimize.curve_fit(Vfit, r[mask], V[mask])\n",
    "C = p[0]\n",
    "errC = covar[0,0]**0.5\n",
    "print('C = {} ± {}'.format(C, errC))"
   ]
  },
  {
   "cell_type": "code",
   "execution_count": 33,
   "metadata": {
    "collapsed": false
   },
   "outputs": [
    {
     "name": "stderr",
     "output_type": "stream",
     "text": [
      "/opt/apps/anaconda/python3/lib/python3.5/site-packages/ipykernel/__main__.py:1: RuntimeWarning: divide by zero encountered in true_divide\n",
      "  if __name__ == '__main__':\n"
     ]
    },
    {
     "data": {
      "text/plain": [
       "(-2e-21, 1e-22)"
      ]
     },
     "execution_count": 33,
     "metadata": {},
     "output_type": "execute_result"
    },
    {
     "data": {
      "image/png": "[encoded data removed]",
      "text/plain": [
       "<matplotlib.figure.Figure at 0x7f722948e4e0>"
      ]
     },
     "metadata": {},
     "output_type": "display_data"
    }
   ],
   "source": [
    "plot(r,V, label='Observed')\n",
    "plot(r,Vfit(r,C))\n",
    "xlim(0,3.5)\n",
    "ylim(-2e-21,1e-22)"
   ]
  },
  {
   "cell_type": "code",
   "execution_count": 34,
   "metadata": {
    "collapsed": false
   },
   "outputs": [
    {
     "name": "stderr",
     "output_type": "stream",
     "text": [
      "/opt/apps/anaconda/python3/lib/python3.5/site-packages/ipykernel/__main__.py:1: RuntimeWarning: divide by zero encountered in true_divide\n",
      "  if __name__ == '__main__':\n"
     ]
    },
    {
     "data": {
      "text/plain": [
       "(-2e-21, 1e-22)"
      ]
     },
     "execution_count": 34,
     "metadata": {},
     "output_type": "execute_result"
    },
    {
     "data": {
      "image/png": "[encoded data removed]",
      "text/plain": [
       "<matplotlib.figure.Figure at 0x7f72297e2d68>"
      ]
     },
     "metadata": {},
     "output_type": "display_data"
    }
   ],
   "source": [
    "plot(r,V, label='Observed')\n",
    "plot(r,Vfit(r,C))\n",
    "xlim(0.4,1.0)\n",
    "ylim(-2e-21,1e-22)"
   ]
  },
  {
   "cell_type": "markdown",
   "metadata": {},
   "source": [
    "## Cheater's method "
   ]
  },
  {
   "cell_type": "markdown",
   "metadata": {},
   "source": [
    "This force field uses the Lennard-Jones 6-12 potential for nonbonded interactions, so we can fit to the Lennard Jones potential \n",
    "$$\n",
    "V(r) = \\frac{C_{12}}{r^{12}} - \\frac{C_6}{r^6}\n",
    "$$\n",
    "and expect very good results."
   ]
  },
  {
   "cell_type": "code",
   "execution_count": 23,
   "metadata": {
    "collapsed": true
   },
   "outputs": [],
   "source": [
    "def lj_potential(r,C6,C12):\n",
    "    return C12/r**12 - C6/r**6"
   ]
  },
  {
   "cell_type": "code",
   "execution_count": 24,
   "metadata": {
    "collapsed": false
   },
   "outputs": [
    {
     "name": "stdout",
     "output_type": "stream",
     "text": [
      "[  9.90482048e-24   1.55614554e-26]\n",
      "[[  2.30138415e-26   1.06161794e-27]\n",
      " [  1.06161794e-27   5.23375814e-29]]\n"
     ]
    }
   ],
   "source": [
    "cutoff = 0.34\n",
    "mask = r > cutoff\n",
    "p, covar = optimize.curve_fit(lj_potential, r[mask], V[mask])\n",
    "print(p)\n",
    "print(covar**0.5)"
   ]
  },
  {
   "cell_type": "markdown",
   "metadata": {},
   "source": [
    "This gives $C_6 = (1.0600 \\pm 0.0017)\\times 10^{-23}$"
   ]
  },
  {
   "cell_type": "code",
   "execution_count": 25,
   "metadata": {
    "collapsed": false
   },
   "outputs": [
    {
     "name": "stderr",
     "output_type": "stream",
     "text": [
      "/opt/apps/anaconda/python3/lib/python3.5/site-packages/ipykernel/__main__.py:2: RuntimeWarning: divide by zero encountered in true_divide\n",
      "  from ipykernel import kernelapp as app\n",
      "/opt/apps/anaconda/python3/lib/python3.5/site-packages/ipykernel/__main__.py:2: RuntimeWarning: invalid value encountered in subtract\n",
      "  from ipykernel import kernelapp as app\n"
     ]
    },
    {
     "data": {
      "text/plain": [
       "(-2e-21, 1e-22)"
      ]
     },
     "execution_count": 25,
     "metadata": {},
     "output_type": "execute_result"
    },
    {
     "data": {
      "image/png": "[encoded data removed]",
      "text/plain": [
       "<matplotlib.figure.Figure at 0x7f7228c334a8>"
      ]
     },
     "metadata": {},
     "output_type": "display_data"
    }
   ],
   "source": [
    "plot(r,V)\n",
    "plot(r, lj_potential(r,*p))\n",
    "xlabel('Separation (nm)')\n",
    "ylabel('$V(r)$ (J)')\n",
    "xlim(0,3.5)\n",
    "ylim(-2e-21,1e-22)"
   ]
  },
  {
   "cell_type": "markdown",
   "metadata": {},
   "source": [
    "## Calculation of the van der Waals constants $a$ and $b$ "
   ]
  },
  {
   "cell_type": "markdown",
   "metadata": {},
   "source": [
    "We need to find where $V(r)$ crosses the $x$ axis. Looks to be in the neighborhood of 0.34 nm."
   ]
  },
  {
   "cell_type": "code",
   "execution_count": 26,
   "metadata": {
    "collapsed": false
   },
   "outputs": [
    {
     "data": {
      "text/plain": [
       "(-2e-21, 2e-21)"
      ]
     },
     "execution_count": 26,
     "metadata": {},
     "output_type": "execute_result"
    },
    {
     "data": {
      "image/png": "[encoded data removed]",
      "text/plain": [
       "<matplotlib.figure.Figure at 0x7f7229751780>"
      ]
     },
     "metadata": {},
     "output_type": "display_data"
    }
   ],
   "source": [
    "plot(r,V,linestyle=' ',marker='.')\n",
    "xlim(0.3,0.4)\n",
    "ylim(-2e-21,2e-21)"
   ]
  },
  {
   "cell_type": "markdown",
   "metadata": {},
   "source": [
    "We'll use a linear interpolator to get the best estimate possible from our data. This is also likely what one would do with a spreadsheet: start by finding the two $r$ values where $V$ brackets zero, then interpolate to zero."
   ]
  },
  {
   "cell_type": "code",
   "execution_count": 35,
   "metadata": {
    "collapsed": false
   },
   "outputs": [
    {
     "name": "stdout",
     "output_type": "stream",
     "text": [
      "0.340500025647\n"
     ]
    }
   ],
   "source": [
    "Vinterp = interpolate.interp1d(r, V)\n",
    "sigma = optimize.fsolve(Vinterp, 0.34)[0]\n",
    "print(sigma)"
   ]
  },
  {
   "cell_type": "code",
   "execution_count": 36,
   "metadata": {
    "collapsed": false
   },
   "outputs": [
    {
     "name": "stdout",
     "output_type": "stream",
     "text": [
      "[ 0.34   0.342]\n",
      "[  2.47829460e-23  -7.43437534e-23]\n",
      "0.002\n"
     ]
    }
   ],
   "source": [
    "isigma = np.searchsorted(r,sigma)\n",
    "print(r[isigma-1:isigma+1])\n",
    "print(V[isigma-1:isigma+1])\n",
    "err_sigma = r[isigma] - r[isigma-1]\n",
    "print(err_sigma)"
   ]
  },
  {
   "cell_type": "code",
   "execution_count": 37,
   "metadata": {
    "collapsed": false
   },
   "outputs": [],
   "source": [
    "# Convert from J.nm^6 to bar.L.nm^6\n",
    "C_barL = C / 100.0\n",
    "\n",
    "# Convert sigma from nm to dm, so that it becomes L when we cube it\n",
    "sigma_dm = sigma*1e-8\n",
    "err_sigma_dm = err_sigma*1e-8"
   ]
  },
  {
   "cell_type": "code",
   "execution_count": 38,
   "metadata": {
    "collapsed": false
   },
   "outputs": [
    {
     "name": "stdout",
     "output_type": "stream",
     "text": [
      "a = 1.73 ± 0.02 L^2 bar/mol^2\n"
     ]
    }
   ],
   "source": [
    "a = 2*pi *C_barL*1e-48*constants.Avogadro**2/(3*sigma_dm**3)\n",
    "err_a = a*errC/C + a*err_sigma_dm/sigma_dm\n",
    "print('a = {:.2f} ± {:.2f} L^2 bar/mol^2'.format(a, err_a))"
   ]
  },
  {
   "cell_type": "code",
   "execution_count": 39,
   "metadata": {
    "collapsed": false
   },
   "outputs": [
    {
     "name": "stdout",
     "output_type": "stream",
     "text": [
      "b = 0.0498 ± 0.0009 L/mol\n"
     ]
    }
   ],
   "source": [
    "b = 2*pi*sigma_dm**3 * constants.Avogadro/3\n",
    "err_b = 2*pi*constants.Avogadro*sigma_dm**2*err_sigma_dm\n",
    "print('b = {:.4f} ± {:.4f} L/mol'.format(b,err_b))"
   ]
  },
  {
   "cell_type": "code",
   "execution_count": null,
   "metadata": {
    "collapsed": true
   },
   "outputs": [],
   "source": []
  }
 ],
 "metadata": {
  "kernelspec": {
   "display_name": "Python 3",
   "language": "python",
   "name": "python3"
  },
  "language_info": {
   "codemirror_mode": {
    "name": "ipython",
    "version": 3
   },
   "file_extension": ".py",
   "mimetype": "text/x-python",
   "name": "python",
   "nbconvert_exporter": "python",
   "pygments_lexer": "ipython3",
   "version": "3.5.2"
  }
 },
 "nbformat": 4,
 "nbformat_minor": 0
}
